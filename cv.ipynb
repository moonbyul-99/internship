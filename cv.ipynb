{
 "cells": [
  {
   "cell_type": "code",
   "execution_count": 2,
   "metadata": {},
   "outputs": [],
   "source": [
    "import lightgbm as lgb \n",
    "from sklearn.model_selection import train_test_split \n",
    "from sklearn.svm import SVC \n",
    "from sklearn.neighbors import KNeighborsClassifier\n",
    "from sklearn.linear_model import LogisticRegression\n",
    "from sklearn.ensemble import RandomForestClassifier\n",
    "import numpy as np \n",
    "import pandas as pd \n",
    "import os \n",
    "import sys \n",
    "sys.path.append('src/')\n",
    "from feature_generation import feature_generation \n",
    "from sklearn.model_selection import StratifiedKFold\n",
    "import matplotlib.pyplot as plt\n",
    "from sklearn.metrics import accuracy_score, roc_auc_score \n",
    "import xgboost as xgb\n",
    "from sklearn.metrics import classification_report"
   ]
  },
  {
   "cell_type": "code",
   "execution_count": 23,
   "metadata": {},
   "outputs": [],
   "source": [
    "train_data = np.load('训练集/train_x.npy')\n",
    "train_label = np.load('训练集/train_y.npy')\n",
    "test_data = np.load('测试集A/test_x_A.npy')\n",
    "sample_submit = pd.read_csv('测试集A/submit_example_A.csv', index_col=0)"
   ]
  },
  {
   "cell_type": "code",
   "execution_count": 24,
   "metadata": {},
   "outputs": [
    {
     "name": "stdout",
     "output_type": "stream",
     "text": [
      "(37549, 910)\n",
      "(1155, 910)\n"
     ]
    }
   ],
   "source": [
    "train_fg = feature_generation(train_data)\n",
    "train_fg.get_feature()\n",
    "train_fg.feature_concat()\n",
    "train_data = train_fg.X\n",
    "train_feature_name = train_fg.feature_name\n",
    "print(train_data.shape)\n",
    "\n",
    "test_fg = feature_generation(test_data)\n",
    "test_fg.get_feature()\n",
    "test_fg.feature_concat()\n",
    "test_data = test_fg.X\n",
    "test_feature_name = test_fg.feature_name\n",
    "print(test_data.shape)"
   ]
  },
  {
   "cell_type": "code",
   "execution_count": 1,
   "metadata": {},
   "outputs": [
    {
     "ename": "ModuleNotFoundError",
     "evalue": "No module named 'model_train_eval'",
     "output_type": "error",
     "traceback": [
      "\u001b[1;31m---------------------------------------------------------------------------\u001b[0m",
      "\u001b[1;31mModuleNotFoundError\u001b[0m                       Traceback (most recent call last)",
      "Cell \u001b[1;32mIn[1], line 1\u001b[0m\n\u001b[1;32m----> 1\u001b[0m \u001b[38;5;28;01mfrom\u001b[39;00m \u001b[38;5;21;01mmodel_train_eval\u001b[39;00m \u001b[38;5;28;01mimport\u001b[39;00m lgb_cv_eval\n\u001b[0;32m      3\u001b[0m lgb_params \u001b[38;5;241m=\u001b[39m {\u001b[38;5;124m'\u001b[39m\u001b[38;5;124mlearning_rate\u001b[39m\u001b[38;5;124m'\u001b[39m: \u001b[38;5;241m0.01\u001b[39m, \u001b[38;5;124m'\u001b[39m\u001b[38;5;124mmax_depth\u001b[39m\u001b[38;5;124m'\u001b[39m: \u001b[38;5;241m-\u001b[39m\u001b[38;5;241m1\u001b[39m, \u001b[38;5;124m'\u001b[39m\u001b[38;5;124mmin_child_weight\u001b[39m\u001b[38;5;124m'\u001b[39m: \u001b[38;5;241m1\u001b[39m,\n\u001b[0;32m      4\u001b[0m             \u001b[38;5;124m'\u001b[39m\u001b[38;5;124mcolsample_bytree\u001b[39m\u001b[38;5;124m'\u001b[39m: \u001b[38;5;241m1\u001b[39m, \u001b[38;5;124m'\u001b[39m\u001b[38;5;124msubsample\u001b[39m\u001b[38;5;124m'\u001b[39m: \u001b[38;5;241m1\u001b[39m, \u001b[38;5;124m'\u001b[39m\u001b[38;5;124mreg_lambda\u001b[39m\u001b[38;5;124m'\u001b[39m: \u001b[38;5;241m0.5\u001b[39m, \u001b[38;5;124m'\u001b[39m\u001b[38;5;124mreg_alpha\u001b[39m\u001b[38;5;124m'\u001b[39m: \u001b[38;5;241m0.5\u001b[39m,\u001b[38;5;124m'\u001b[39m\u001b[38;5;124mnum_leaves\u001b[39m\u001b[38;5;124m'\u001b[39m:\u001b[38;5;241m31\u001b[39m,\n\u001b[0;32m      5\u001b[0m             \u001b[38;5;124m'\u001b[39m\u001b[38;5;124mseed\u001b[39m\u001b[38;5;124m'\u001b[39m: \u001b[38;5;241m33\u001b[39m,\u001b[38;5;124m'\u001b[39m\u001b[38;5;124mverbose\u001b[39m\u001b[38;5;124m'\u001b[39m:\u001b[38;5;241m1\u001b[39m,  \u001b[38;5;124m'\u001b[39m\u001b[38;5;124mobjective\u001b[39m\u001b[38;5;124m'\u001b[39m:\u001b[38;5;124m'\u001b[39m\u001b[38;5;124mmulticlass\u001b[39m\u001b[38;5;124m'\u001b[39m , \u001b[38;5;124m'\u001b[39m\u001b[38;5;124mnum_class\u001b[39m\u001b[38;5;124m'\u001b[39m: \u001b[38;5;241m3\u001b[39m}\n\u001b[0;32m      6\u001b[0m num_boost_round \u001b[38;5;241m=\u001b[39m \u001b[38;5;241m400\u001b[39m\n",
      "\u001b[1;31mModuleNotFoundError\u001b[0m: No module named 'model_train_eval'"
     ]
    }
   ],
   "source": [
    "from model_train_eval import lgb_cv_eval\n",
    "\n",
    "lgb_params = {'learning_rate': 0.1, 'max_depth': -1, 'min_child_weight': 1,\n",
    "            'colsample_bytree': 1, 'subsample': 1, 'reg_lambda': 0.5, 'reg_alpha': 0.5,'num_leaves':31,\n",
    "            'seed': 33,'verbose':1,  'objective':'multiclass' , 'num_class': 3}\n",
    "num_boost_round = 200\n",
    "cv_model, dev_df, train_df = lgb_cv_eval(k =10, train_data = train_data, train_label = train_label, \n",
    "                                         lgb_params = lgb_params, \n",
    "                                         num_boost_round = num_boost_round)"
   ]
  },
  {
   "cell_type": "code",
   "execution_count": 8,
   "metadata": {},
   "outputs": [
    {
     "name": "stdout",
     "output_type": "stream",
     "text": [
      "0: 816\n",
      "1: 221\n",
      "2: 118\n",
      "========================================\n",
      "0: 818\n",
      "1: 197\n",
      "2: 140\n",
      "========================================\n",
      "0: 814\n",
      "1: 206\n",
      "2: 135\n",
      "========================================\n",
      "0: 808\n",
      "1: 205\n",
      "2: 142\n",
      "========================================\n",
      "0: 809\n",
      "1: 201\n",
      "2: 145\n",
      "========================================\n",
      "0: 815\n",
      "1: 194\n",
      "2: 146\n",
      "========================================\n",
      "0: 810\n",
      "1: 205\n",
      "2: 140\n",
      "========================================\n",
      "0: 815\n",
      "1: 211\n",
      "2: 129\n",
      "========================================\n",
      "0: 819\n",
      "1: 206\n",
      "2: 130\n",
      "========================================\n",
      "0: 815\n",
      "1: 198\n",
      "2: 142\n",
      "========================================\n"
     ]
    }
   ],
   "source": [
    "all_prob = []\n",
    "all_label = []\n",
    "for i in cv_model:\n",
    "    model = cv_model[i] \n",
    "    pred_prob = model.predict(test_data)\n",
    "    pred_label = np.argmax(pred_prob, axis = 1)\n",
    "    for _ in range(3):\n",
    "        print(f'{_}: {(pred_label == _).sum()}')   \n",
    "    print('===='* 10) \n",
    "    all_prob.append(pred_prob)\n",
    "    all_label.append(pred_label)"
   ]
  },
  {
   "cell_type": "code",
   "execution_count": 18,
   "metadata": {},
   "outputs": [
    {
     "name": "stdout",
     "output_type": "stream",
     "text": [
      "0: 815\n",
      "1: 198\n",
      "2: 142\n"
     ]
    }
   ],
   "source": [
    "prob = 0\n",
    "for _ in all_prob:\n",
    "    prob += _ \n",
    "\n",
    "prob = prob/10\n",
    "pred_label = np.argmax(pred_prob, axis = 1)\n",
    "for _ in range(3):\n",
    "    print(f'{_}: {(pred_label == _).sum()}')"
   ]
  },
  {
   "cell_type": "code",
   "execution_count": 21,
   "metadata": {},
   "outputs": [
    {
     "name": "stdout",
     "output_type": "stream",
     "text": [
      "0: 385\n",
      "1: 385\n",
      "2: 385\n"
     ]
    }
   ],
   "source": [
    "pred_label = np.array([2]*test_data.shape[0])\n",
    "\n",
    "top_385_indices = prob[:,0].argsort()[::-1][:385]\n",
    "pred_label[top_385_indices] = 0\n",
    "\n",
    "tmp_res = prob.copy()\n",
    "tmp_res[top_385_indices,1] = 0\n",
    "\n",
    "top_385_indices = tmp_res[:,1].argsort()[::-1][:385]\n",
    "pred_label[top_385_indices] = 1\n",
    "\n",
    "for _ in np.unique(pred_label):\n",
    "    print(f'{_}: {(pred_label == _).sum()}')\n",
    "\n",
    "sample_submit.loc[:,'label'] = pred_label \n",
    "sample_submit.to_csv('res_6.csv')"
   ]
  }
 ],
 "metadata": {
  "kernelspec": {
   "display_name": "ML",
   "language": "python",
   "name": "python3"
  },
  "language_info": {
   "codemirror_mode": {
    "name": "ipython",
    "version": 3
   },
   "file_extension": ".py",
   "mimetype": "text/x-python",
   "name": "python",
   "nbconvert_exporter": "python",
   "pygments_lexer": "ipython3",
   "version": "3.10.13"
  }
 },
 "nbformat": 4,
 "nbformat_minor": 2
}
